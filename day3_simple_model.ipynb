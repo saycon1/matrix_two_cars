{
  "nbformat": 4,
  "nbformat_minor": 0,
  "metadata": {
    "colab": {
      "name": "day3_simple_model.ipynb",
      "provenance": [],
      "mount_file_id": "1HTptpOOry8Sh8uZoVq-gBDAHGRD2WgCQ",
      "authorship_tag": "ABX9TyMdrP6lUeQmhEwGUgptIVHd",
      "include_colab_link": true
    },
    "kernelspec": {
      "name": "python3",
      "display_name": "Python 3"
    }
  },
  "cells": [
    {
      "cell_type": "markdown",
      "metadata": {
        "id": "view-in-github",
        "colab_type": "text"
      },
      "source": [
        "<a href=\"https://colab.research.google.com/github/saycon1/matrix_two_cars/blob/master/day3_simple_model.ipynb\" target=\"_parent\"><img src=\"https://colab.research.google.com/assets/colab-badge.svg\" alt=\"Open In Colab\"/></a>"
      ]
    },
    {
      "cell_type": "code",
      "metadata": {
        "id": "HLzM8eIGgopD",
        "colab_type": "code",
        "colab": {
          "base_uri": "https://localhost:8080/",
          "height": 462
        },
        "outputId": "4b2e3f28-b049-496a-eb94-983f2b0d1e1a"
      },
      "source": [
        "!pip install --upgrade tables\n",
        "!pip install eli5"
      ],
      "execution_count": 1,
      "outputs": [
        {
          "output_type": "stream",
          "text": [
            "Collecting tables\n",
            "\u001b[?25l  Downloading https://files.pythonhosted.org/packages/ed/c3/8fd9e3bb21872f9d69eb93b3014c86479864cca94e625fd03713ccacec80/tables-3.6.1-cp36-cp36m-manylinux1_x86_64.whl (4.3MB)\n",
            "\u001b[K     |████████████████████████████████| 4.3MB 2.9MB/s \n",
            "\u001b[?25hRequirement already satisfied, skipping upgrade: numpy>=1.9.3 in /usr/local/lib/python3.6/dist-packages (from tables) (1.17.5)\n",
            "Requirement already satisfied, skipping upgrade: numexpr>=2.6.2 in /usr/local/lib/python3.6/dist-packages (from tables) (2.7.1)\n",
            "Installing collected packages: tables\n",
            "  Found existing installation: tables 3.4.4\n",
            "    Uninstalling tables-3.4.4:\n",
            "      Successfully uninstalled tables-3.4.4\n",
            "Successfully installed tables-3.6.1\n",
            "Collecting eli5\n",
            "\u001b[?25l  Downloading https://files.pythonhosted.org/packages/97/2f/c85c7d8f8548e460829971785347e14e45fa5c6617da374711dec8cb38cc/eli5-0.10.1-py2.py3-none-any.whl (105kB)\n",
            "\u001b[K     |████████████████████████████████| 112kB 2.8MB/s \n",
            "\u001b[?25hRequirement already satisfied: tabulate>=0.7.7 in /usr/local/lib/python3.6/dist-packages (from eli5) (0.8.6)\n",
            "Requirement already satisfied: scikit-learn>=0.18 in /usr/local/lib/python3.6/dist-packages (from eli5) (0.22.1)\n",
            "Requirement already satisfied: six in /usr/local/lib/python3.6/dist-packages (from eli5) (1.12.0)\n",
            "Requirement already satisfied: numpy>=1.9.0 in /usr/local/lib/python3.6/dist-packages (from eli5) (1.17.5)\n",
            "Requirement already satisfied: scipy in /usr/local/lib/python3.6/dist-packages (from eli5) (1.4.1)\n",
            "Requirement already satisfied: attrs>16.0.0 in /usr/local/lib/python3.6/dist-packages (from eli5) (19.3.0)\n",
            "Requirement already satisfied: graphviz in /usr/local/lib/python3.6/dist-packages (from eli5) (0.10.1)\n",
            "Requirement already satisfied: jinja2 in /usr/local/lib/python3.6/dist-packages (from eli5) (2.11.1)\n",
            "Requirement already satisfied: joblib>=0.11 in /usr/local/lib/python3.6/dist-packages (from scikit-learn>=0.18->eli5) (0.14.1)\n",
            "Requirement already satisfied: MarkupSafe>=0.23 in /usr/local/lib/python3.6/dist-packages (from jinja2->eli5) (1.1.1)\n",
            "Installing collected packages: eli5\n",
            "Successfully installed eli5-0.10.1\n"
          ],
          "name": "stdout"
        }
      ]
    },
    {
      "cell_type": "code",
      "metadata": {
        "id": "_abeXxmafixG",
        "colab_type": "code",
        "colab": {}
      },
      "source": [
        "import pandas as pd\n",
        "import numpy as np\n",
        "from sklearn.dummy import DummyRegressor\n",
        "from sklearn.tree import DecisionTreeRegressor\n",
        "from sklearn.metrics import mean_absolute_error as mae\n",
        "from sklearn.model_selection import cross_val_score\n",
        "import eli5\n",
        "from eli5.sklearn import PermutationImportance"
      ],
      "execution_count": 0,
      "outputs": []
    },
    {
      "cell_type": "code",
      "metadata": {
        "id": "RJYht6-Ehac-",
        "colab_type": "code",
        "colab": {
          "base_uri": "https://localhost:8080/",
          "height": 34
        },
        "outputId": "a5c31f20-4914-4b4c-e479-c2609e45ea3a"
      },
      "source": [
        "cd '/content/drive/My Drive/Colab Notebooks/dw_matrix/matrix_two/matrix_two_cars/data'"
      ],
      "execution_count": 10,
      "outputs": [
        {
          "output_type": "stream",
          "text": [
            "/content/drive/My Drive/Colab Notebooks/dw_matrix/matrix_two/matrix_two_cars/data\n"
          ],
          "name": "stdout"
        }
      ]
    },
    {
      "cell_type": "code",
      "metadata": {
        "id": "emlZ3czbh8UF",
        "colab_type": "code",
        "colab": {
          "base_uri": "https://localhost:8080/",
          "height": 34
        },
        "outputId": "4748e908-2028-40f9-b7eb-40ed33e79ba3"
      },
      "source": [
        "ls"
      ],
      "execution_count": 11,
      "outputs": [
        {
          "output_type": "stream",
          "text": [
            "car.h5\n"
          ],
          "name": "stdout"
        }
      ]
    },
    {
      "cell_type": "code",
      "metadata": {
        "id": "1b-VjIDwg4MB",
        "colab_type": "code",
        "colab": {}
      },
      "source": [
        "df = pd.read_hdf('car.h5')"
      ],
      "execution_count": 0,
      "outputs": []
    },
    {
      "cell_type": "code",
      "metadata": {
        "id": "tM8-T9L3h400",
        "colab_type": "code",
        "colab": {
          "base_uri": "https://localhost:8080/",
          "height": 34
        },
        "outputId": "595b20ef-c0c9-48aa-9f3b-38dbbbe7d1be"
      },
      "source": [
        "df.shape"
      ],
      "execution_count": 13,
      "outputs": [
        {
          "output_type": "execute_result",
          "data": {
            "text/plain": [
              "(106494, 155)"
            ]
          },
          "metadata": {
            "tags": []
          },
          "execution_count": 13
        }
      ]
    },
    {
      "cell_type": "code",
      "metadata": {
        "id": "HOi5SQONiNwS",
        "colab_type": "code",
        "colab": {
          "base_uri": "https://localhost:8080/",
          "height": 187
        },
        "outputId": "8c23ac5f-3112-4912-9ef3-e82649cf306e"
      },
      "source": [
        "df.columns"
      ],
      "execution_count": 14,
      "outputs": [
        {
          "output_type": "execute_result",
          "data": {
            "text/plain": [
              "Index(['breadcrumb', 'created_at', 'price_currency', 'price_details',\n",
              "       'price_value', 'seller_address', 'seller_name', 'seller_type',\n",
              "       'feature_czujniki-parkowania-przednie',\n",
              "       'feature_poduszka-powietrzna-chroniąca-kolana',\n",
              "       ...\n",
              "       'param_pearl', 'param_stan', 'param_wersja', 'param_emisja-co2',\n",
              "       'param_body-type', 'param_matowy', 'param_bezwypadkowy',\n",
              "       'param_akryl-(niemetalizowany)', 'param_monthly-payment-value',\n",
              "       'car_id'],\n",
              "      dtype='object', length=155)"
            ]
          },
          "metadata": {
            "tags": []
          },
          "execution_count": 14
        }
      ]
    },
    {
      "cell_type": "code",
      "metadata": {
        "id": "B2-eLDVPiP1P",
        "colab_type": "code",
        "colab": {}
      },
      "source": [
        ""
      ],
      "execution_count": 0,
      "outputs": []
    },
    {
      "cell_type": "markdown",
      "metadata": {
        "id": "evPZ7FrTiaV4",
        "colab_type": "text"
      },
      "source": [
        "Dummy Model\n"
      ]
    },
    {
      "cell_type": "code",
      "metadata": {
        "id": "0hNySj7oic9t",
        "colab_type": "code",
        "colab": {
          "base_uri": "https://localhost:8080/",
          "height": 34
        },
        "outputId": "f3f369d3-c674-47e4-ac69-71c5b56503c1"
      },
      "source": [
        "df.select_dtypes(np.number).columns"
      ],
      "execution_count": 15,
      "outputs": [
        {
          "output_type": "execute_result",
          "data": {
            "text/plain": [
              "Index(['price_value', 'car_id'], dtype='object')"
            ]
          },
          "metadata": {
            "tags": []
          },
          "execution_count": 15
        }
      ]
    },
    {
      "cell_type": "code",
      "metadata": {
        "id": "cLLNFI4UimZR",
        "colab_type": "code",
        "colab": {
          "base_uri": "https://localhost:8080/",
          "height": 34
        },
        "outputId": "db729fda-ff02-4621-ae20-fec821324115"
      },
      "source": [
        "feats = ['car_id']\n",
        "X = df[feats].values\n",
        "y = df['price_value'].values\n",
        "\n",
        "model = DummyRegressor()\n",
        "model.fit(X,y)\n",
        "y_pred = model.predict(X)\n",
        "\n",
        "mae(y, y_pred)"
      ],
      "execution_count": 23,
      "outputs": [
        {
          "output_type": "execute_result",
          "data": {
            "text/plain": [
              "39465.934630440985"
            ]
          },
          "metadata": {
            "tags": []
          },
          "execution_count": 23
        }
      ]
    },
    {
      "cell_type": "code",
      "metadata": {
        "id": "B54fHSOyjCnj",
        "colab_type": "code",
        "colab": {
          "base_uri": "https://localhost:8080/",
          "height": 34
        },
        "outputId": "d931bcae-a480-40a2-92e2-62a8fa489c93"
      },
      "source": [
        "[x for x in df.columns if 'price' in x]"
      ],
      "execution_count": 25,
      "outputs": [
        {
          "output_type": "execute_result",
          "data": {
            "text/plain": [
              "['price_currency', 'price_details', 'price_value']"
            ]
          },
          "metadata": {
            "tags": []
          },
          "execution_count": 25
        }
      ]
    },
    {
      "cell_type": "code",
      "metadata": {
        "id": "wvhW5J1NkaUN",
        "colab_type": "code",
        "colab": {
          "base_uri": "https://localhost:8080/",
          "height": 68
        },
        "outputId": "04a748fa-dc61-40a9-e3f7-8abf98be3e07"
      },
      "source": [
        "df['price_currency'].value_counts(normalize=True)*100"
      ],
      "execution_count": 28,
      "outputs": [
        {
          "output_type": "execute_result",
          "data": {
            "text/plain": [
              "PLN    99.80844\n",
              "EUR     0.19156\n",
              "Name: price_currency, dtype: float64"
            ]
          },
          "metadata": {
            "tags": []
          },
          "execution_count": 28
        }
      ]
    },
    {
      "cell_type": "code",
      "metadata": {
        "id": "qNck37P2kn45",
        "colab_type": "code",
        "colab": {
          "base_uri": "https://localhost:8080/",
          "height": 51
        },
        "outputId": "653156ac-2c87-43cd-a90f-502e9a9f700a"
      },
      "source": [
        "df['price_currency'].value_counts()"
      ],
      "execution_count": 31,
      "outputs": [
        {
          "output_type": "execute_result",
          "data": {
            "text/plain": [
              "PLN    106290\n",
              "Name: price_currency, dtype: int64"
            ]
          },
          "metadata": {
            "tags": []
          },
          "execution_count": 31
        }
      ]
    },
    {
      "cell_type": "code",
      "metadata": {
        "id": "EGn8C-JXk9s9",
        "colab_type": "code",
        "colab": {
          "base_uri": "https://localhost:8080/",
          "height": 34
        },
        "outputId": "66abc18f-f741-45af-b10f-6d19ca6cfbce"
      },
      "source": [
        "df = df[df['price_currency'] != 'EUR']\n",
        "df.shape"
      ],
      "execution_count": 30,
      "outputs": [
        {
          "output_type": "execute_result",
          "data": {
            "text/plain": [
              "(106290, 155)"
            ]
          },
          "metadata": {
            "tags": []
          },
          "execution_count": 30
        }
      ]
    },
    {
      "cell_type": "code",
      "metadata": {
        "id": "5JZlRmxTlQrF",
        "colab_type": "code",
        "colab": {}
      },
      "source": [
        ""
      ],
      "execution_count": 0,
      "outputs": []
    },
    {
      "cell_type": "markdown",
      "metadata": {
        "id": "169kMB3NlXOE",
        "colab_type": "text"
      },
      "source": [
        "Feature - przygotowanie cech"
      ]
    },
    {
      "cell_type": "code",
      "metadata": {
        "id": "EQYrjxozlau4",
        "colab_type": "code",
        "colab": {
          "base_uri": "https://localhost:8080/",
          "height": 1000
        },
        "outputId": "7f8a4f4b-e09d-4589-acbf-a0d231e26374"
      },
      "source": [
        "for feat in df.columns:\n",
        "  print(feat)"
      ],
      "execution_count": 32,
      "outputs": [
        {
          "output_type": "stream",
          "text": [
            "breadcrumb\n",
            "created_at\n",
            "price_currency\n",
            "price_details\n",
            "price_value\n",
            "seller_address\n",
            "seller_name\n",
            "seller_type\n",
            "feature_czujniki-parkowania-przednie\n",
            "feature_poduszka-powietrzna-chroniąca-kolana\n",
            "feature_kurtyny-powietrzne\n",
            "feature_klimatyzacja-dwustrefowa\n",
            "feature_światła-led\n",
            "feature_czujnik-zmierzchu\n",
            "feature_elektrycznie-ustawiane-lusterka\n",
            "feature_asr-(kontrola-trakcji)\n",
            "feature_poduszka-powietrzna-kierowcy\n",
            "feature_cd\n",
            "feature_elektryczne-szyby-przednie\n",
            "feature_poduszka-powietrzna-pasażera\n",
            "feature_system-start-stop\n",
            "feature_światła-do-jazdy-dziennej\n",
            "feature_komputer-pokładowy\n",
            "feature_elektryczne-szyby-tylne\n",
            "feature_klimatyzacja-manualna\n",
            "feature_tapicerka-welurowa\n",
            "feature_czujnik-deszczu\n",
            "feature_światła-przeciwmgielne\n",
            "feature_ogrzewanie-postojowe\n",
            "feature_radio-niefabryczne\n",
            "feature_regulowane-zawieszenie\n",
            "feature_ogranicznik-prędkości\n",
            "feature_zmieniarka-cd\n",
            "feature_szyberdach\n",
            "feature_isofix\n",
            "feature_asystent-pasa-ruchu\n",
            "feature_alufelgi\n",
            "feature_bluetooth\n",
            "feature_nawigacja-gps\n",
            "feature_asystent-parkowania\n",
            "feature_wspomaganie-kierownicy\n",
            "feature_podgrzewana-przednia-szyba\n",
            "feature_przyciemniane-szyby\n",
            "feature_elektrycznie-ustawiane-fotele\n",
            "feature_klimatyzacja-czterostrefowa\n",
            "feature_tuner-tv\n",
            "feature_poduszki-boczne-przednie\n",
            "feature_tempomat-aktywny\n",
            "feature_klimatyzacja-automatyczna\n",
            "feature_poduszki-boczne-tylne\n",
            "feature_radio-fabryczne\n",
            "feature_odtwarzacz-dvd\n",
            "feature_czujniki-parkowania-tylne\n",
            "feature_łopatki-zmiany-biegów\n",
            "feature_centralny-zamek\n",
            "feature_dach-panoramiczny\n",
            "feature_kamera-cofania\n",
            "feature_immobilizer\n",
            "feature_czujnik-martwego-pola\n",
            "feature_gniazdo-sd\n",
            "feature_podgrzewane-lusterka-boczne\n",
            "feature_podgrzewane-przednie-siedzenia\n",
            "feature_hak\n",
            "feature_abs\n",
            "feature_wielofunkcyjna-kierownica\n",
            "feature_światła-xenonowe\n",
            "feature_gniazdo-usb\n",
            "feature_tapicerka-skórzana\n",
            "feature_gniazdo-aux\n",
            "feature_esp-(stabilizacja-toru-jazdy)\n",
            "feature_alarm\n",
            "feature_podgrzewane-tylne-siedzenia\n",
            "feature_mp3\n",
            "feature_tempomat\n",
            "feature_hud-(wyświetlacz-przezierny)\n",
            "feature_elektrochromatyczne-lusterko-wsteczne\n",
            "feature_relingi-dachowe\n",
            "feature_elektrochromatyczne-lusterka-boczne\n",
            "param_liczba-miejsc\n",
            "param_uszkodzony\n",
            "param_marka-pojazdu\n",
            "param_model\n",
            "param_engine-code\n",
            "param_liczba-drzwi\n",
            "param_first-registration\n",
            "param_country-of-origin\n",
            "param_pierwsza-rejestracja\n",
            "param_gearbox\n",
            "param_przebieg\n",
            "param_faktura-vat\n",
            "param_rok-produkcji\n",
            "param_vin\n",
            "param_perłowy\n",
            "param_homologacja-ciężarowa\n",
            "param_service-record\n",
            "param_metallic\n",
            "param_leasing-concession\n",
            "param_color\n",
            "param_financing-option\n",
            "param_original-owner\n",
            "param_vat-marża\n",
            "param_kategoria\n",
            "param_co2-emissions\n",
            "param_leasing\n",
            "param_mileage\n",
            "param_zarejestrowany-jako-zabytek\n",
            "param_napęd\n",
            "param_wartość-wykupu\n",
            "param_typ\n",
            "param_metalik\n",
            "param_pierwszy-właściciel\n",
            "param_skrzynia-biegów\n",
            "param_vat-discount\n",
            "param_no-accident\n",
            "param_liczba-pozostałych-rat\n",
            "param_particle-filter\n",
            "param_zarejestrowany-w-polsce\n",
            "param_oferta-od\n",
            "param_moc\n",
            "param_make\n",
            "param_kraj-pochodzenia\n",
            "param_engine-power\n",
            "param_year\n",
            "param_serwisowany-w-aso\n",
            "param_rodzaj-paliwa\n",
            "param_możliwość-finansowania\n",
            "param_registered-in-poland\n",
            "param_transmission\n",
            "param_miesięczna-rata\n",
            "param_kod-silnika\n",
            "param_version\n",
            "param_opłata-początkowa\n",
            "param_model-pojazdu\n",
            "param_pojemność-skokowa\n",
            "param_kierownica-po-prawej-(anglik)\n",
            "param_fuel-type\n",
            "param_vat-free\n",
            "param_acrylic\n",
            "param_damaged\n",
            "param_door-count\n",
            "param_tuning\n",
            "param_filtr-cząstek-stałych\n",
            "param_nr-of-seats\n",
            "param_kolor\n",
            "param_engine-capacity\n",
            "param_pearl\n",
            "param_stan\n",
            "param_wersja\n",
            "param_emisja-co2\n",
            "param_body-type\n",
            "param_matowy\n",
            "param_bezwypadkowy\n",
            "param_akryl-(niemetalizowany)\n",
            "param_monthly-payment-value\n",
            "car_id\n"
          ],
          "name": "stdout"
        }
      ]
    },
    {
      "cell_type": "code",
      "metadata": {
        "id": "lmW3LugElnPe",
        "colab_type": "code",
        "colab": {}
      },
      "source": [
        "cos = df['param_color'].factorize()[0]"
      ],
      "execution_count": 0,
      "outputs": []
    },
    {
      "cell_type": "code",
      "metadata": {
        "id": "7g2MlViml22D",
        "colab_type": "code",
        "colab": {}
      },
      "source": [
        "SUFFIX_CAT = '__cat'\n",
        "for feat in df.columns:\n",
        "  if isinstance(df[feat][0], list): continue\n",
        "  \n",
        "  factorized_values = df[feat].factorize()[0]\n",
        "  if SUFFIX_CAT in feat:\n",
        "    df[feat] = factorized_values\n",
        "  else:\n",
        "    df[feat + SUFFIX_CAT] = factorized_values"
      ],
      "execution_count": 0,
      "outputs": []
    },
    {
      "cell_type": "code",
      "metadata": {
        "id": "VBzoFvdenljQ",
        "colab_type": "code",
        "colab": {
          "base_uri": "https://localhost:8080/",
          "height": 34
        },
        "outputId": "6bbe1c8a-3c63-4470-809f-21be4e20c557"
      },
      "source": [
        "cat_feats = [x for x in df.columns if SUFFIX_CAT in x]\n",
        "len(cat_feats)"
      ],
      "execution_count": 47,
      "outputs": [
        {
          "output_type": "execute_result",
          "data": {
            "text/plain": [
              "154"
            ]
          },
          "metadata": {
            "tags": []
          },
          "execution_count": 47
        }
      ]
    },
    {
      "cell_type": "code",
      "metadata": {
        "id": "ztjWQ8nKsVNx",
        "colab_type": "code",
        "colab": {
          "base_uri": "https://localhost:8080/",
          "height": 1000
        },
        "outputId": "ac532280-9c06-4410-a10e-99c9850b5c16"
      },
      "source": [
        "cat_feats = [x for x in df.columns if SUFFIX_CAT in x]\n",
        "cat_feats = [x for x in cat_feats if 'price' not in x]\n",
        "cat_feats"
      ],
      "execution_count": 48,
      "outputs": [
        {
          "output_type": "execute_result",
          "data": {
            "text/plain": [
              "['created_at__cat',\n",
              " 'seller_address__cat',\n",
              " 'seller_name__cat',\n",
              " 'seller_type__cat',\n",
              " 'feature_czujniki-parkowania-przednie__cat',\n",
              " 'feature_poduszka-powietrzna-chroniąca-kolana__cat',\n",
              " 'feature_kurtyny-powietrzne__cat',\n",
              " 'feature_klimatyzacja-dwustrefowa__cat',\n",
              " 'feature_światła-led__cat',\n",
              " 'feature_czujnik-zmierzchu__cat',\n",
              " 'feature_elektrycznie-ustawiane-lusterka__cat',\n",
              " 'feature_asr-(kontrola-trakcji)__cat',\n",
              " 'feature_poduszka-powietrzna-kierowcy__cat',\n",
              " 'feature_cd__cat',\n",
              " 'feature_elektryczne-szyby-przednie__cat',\n",
              " 'feature_poduszka-powietrzna-pasażera__cat',\n",
              " 'feature_system-start-stop__cat',\n",
              " 'feature_światła-do-jazdy-dziennej__cat',\n",
              " 'feature_komputer-pokładowy__cat',\n",
              " 'feature_elektryczne-szyby-tylne__cat',\n",
              " 'feature_klimatyzacja-manualna__cat',\n",
              " 'feature_tapicerka-welurowa__cat',\n",
              " 'feature_czujnik-deszczu__cat',\n",
              " 'feature_światła-przeciwmgielne__cat',\n",
              " 'feature_ogrzewanie-postojowe__cat',\n",
              " 'feature_radio-niefabryczne__cat',\n",
              " 'feature_regulowane-zawieszenie__cat',\n",
              " 'feature_ogranicznik-prędkości__cat',\n",
              " 'feature_zmieniarka-cd__cat',\n",
              " 'feature_szyberdach__cat',\n",
              " 'feature_isofix__cat',\n",
              " 'feature_asystent-pasa-ruchu__cat',\n",
              " 'feature_alufelgi__cat',\n",
              " 'feature_bluetooth__cat',\n",
              " 'feature_nawigacja-gps__cat',\n",
              " 'feature_asystent-parkowania__cat',\n",
              " 'feature_wspomaganie-kierownicy__cat',\n",
              " 'feature_podgrzewana-przednia-szyba__cat',\n",
              " 'feature_przyciemniane-szyby__cat',\n",
              " 'feature_elektrycznie-ustawiane-fotele__cat',\n",
              " 'feature_klimatyzacja-czterostrefowa__cat',\n",
              " 'feature_tuner-tv__cat',\n",
              " 'feature_poduszki-boczne-przednie__cat',\n",
              " 'feature_tempomat-aktywny__cat',\n",
              " 'feature_klimatyzacja-automatyczna__cat',\n",
              " 'feature_poduszki-boczne-tylne__cat',\n",
              " 'feature_radio-fabryczne__cat',\n",
              " 'feature_odtwarzacz-dvd__cat',\n",
              " 'feature_czujniki-parkowania-tylne__cat',\n",
              " 'feature_łopatki-zmiany-biegów__cat',\n",
              " 'feature_centralny-zamek__cat',\n",
              " 'feature_dach-panoramiczny__cat',\n",
              " 'feature_kamera-cofania__cat',\n",
              " 'feature_immobilizer__cat',\n",
              " 'feature_czujnik-martwego-pola__cat',\n",
              " 'feature_gniazdo-sd__cat',\n",
              " 'feature_podgrzewane-lusterka-boczne__cat',\n",
              " 'feature_podgrzewane-przednie-siedzenia__cat',\n",
              " 'feature_hak__cat',\n",
              " 'feature_abs__cat',\n",
              " 'feature_wielofunkcyjna-kierownica__cat',\n",
              " 'feature_światła-xenonowe__cat',\n",
              " 'feature_gniazdo-usb__cat',\n",
              " 'feature_tapicerka-skórzana__cat',\n",
              " 'feature_gniazdo-aux__cat',\n",
              " 'feature_esp-(stabilizacja-toru-jazdy)__cat',\n",
              " 'feature_alarm__cat',\n",
              " 'feature_podgrzewane-tylne-siedzenia__cat',\n",
              " 'feature_mp3__cat',\n",
              " 'feature_tempomat__cat',\n",
              " 'feature_hud-(wyświetlacz-przezierny)__cat',\n",
              " 'feature_elektrochromatyczne-lusterko-wsteczne__cat',\n",
              " 'feature_relingi-dachowe__cat',\n",
              " 'feature_elektrochromatyczne-lusterka-boczne__cat',\n",
              " 'param_liczba-miejsc__cat',\n",
              " 'param_uszkodzony__cat',\n",
              " 'param_marka-pojazdu__cat',\n",
              " 'param_model__cat',\n",
              " 'param_engine-code__cat',\n",
              " 'param_liczba-drzwi__cat',\n",
              " 'param_first-registration__cat',\n",
              " 'param_country-of-origin__cat',\n",
              " 'param_pierwsza-rejestracja__cat',\n",
              " 'param_gearbox__cat',\n",
              " 'param_przebieg__cat',\n",
              " 'param_faktura-vat__cat',\n",
              " 'param_rok-produkcji__cat',\n",
              " 'param_vin__cat',\n",
              " 'param_perłowy__cat',\n",
              " 'param_homologacja-ciężarowa__cat',\n",
              " 'param_service-record__cat',\n",
              " 'param_metallic__cat',\n",
              " 'param_leasing-concession__cat',\n",
              " 'param_color__cat',\n",
              " 'param_financing-option__cat',\n",
              " 'param_original-owner__cat',\n",
              " 'param_vat-marża__cat',\n",
              " 'param_kategoria__cat',\n",
              " 'param_co2-emissions__cat',\n",
              " 'param_leasing__cat',\n",
              " 'param_mileage__cat',\n",
              " 'param_zarejestrowany-jako-zabytek__cat',\n",
              " 'param_napęd__cat',\n",
              " 'param_wartość-wykupu__cat',\n",
              " 'param_typ__cat',\n",
              " 'param_metalik__cat',\n",
              " 'param_pierwszy-właściciel__cat',\n",
              " 'param_skrzynia-biegów__cat',\n",
              " 'param_vat-discount__cat',\n",
              " 'param_no-accident__cat',\n",
              " 'param_liczba-pozostałych-rat__cat',\n",
              " 'param_particle-filter__cat',\n",
              " 'param_zarejestrowany-w-polsce__cat',\n",
              " 'param_oferta-od__cat',\n",
              " 'param_moc__cat',\n",
              " 'param_make__cat',\n",
              " 'param_kraj-pochodzenia__cat',\n",
              " 'param_engine-power__cat',\n",
              " 'param_year__cat',\n",
              " 'param_serwisowany-w-aso__cat',\n",
              " 'param_rodzaj-paliwa__cat',\n",
              " 'param_możliwość-finansowania__cat',\n",
              " 'param_registered-in-poland__cat',\n",
              " 'param_transmission__cat',\n",
              " 'param_miesięczna-rata__cat',\n",
              " 'param_kod-silnika__cat',\n",
              " 'param_version__cat',\n",
              " 'param_opłata-początkowa__cat',\n",
              " 'param_model-pojazdu__cat',\n",
              " 'param_pojemność-skokowa__cat',\n",
              " 'param_kierownica-po-prawej-(anglik)__cat',\n",
              " 'param_fuel-type__cat',\n",
              " 'param_vat-free__cat',\n",
              " 'param_acrylic__cat',\n",
              " 'param_damaged__cat',\n",
              " 'param_door-count__cat',\n",
              " 'param_tuning__cat',\n",
              " 'param_filtr-cząstek-stałych__cat',\n",
              " 'param_nr-of-seats__cat',\n",
              " 'param_kolor__cat',\n",
              " 'param_engine-capacity__cat',\n",
              " 'param_pearl__cat',\n",
              " 'param_stan__cat',\n",
              " 'param_wersja__cat',\n",
              " 'param_emisja-co2__cat',\n",
              " 'param_body-type__cat',\n",
              " 'param_matowy__cat',\n",
              " 'param_bezwypadkowy__cat',\n",
              " 'param_akryl-(niemetalizowany)__cat',\n",
              " 'param_monthly-payment-value__cat',\n",
              " 'car_id__cat']"
            ]
          },
          "metadata": {
            "tags": []
          },
          "execution_count": 48
        }
      ]
    },
    {
      "cell_type": "code",
      "metadata": {
        "id": "pEO0lB9hspiY",
        "colab_type": "code",
        "colab": {
          "base_uri": "https://localhost:8080/",
          "height": 34
        },
        "outputId": "c239f42b-4b9e-4203-eee3-d6c01064c80b"
      },
      "source": [
        "len(cat_feats)"
      ],
      "execution_count": 49,
      "outputs": [
        {
          "output_type": "execute_result",
          "data": {
            "text/plain": [
              "151"
            ]
          },
          "metadata": {
            "tags": []
          },
          "execution_count": 49
        }
      ]
    },
    {
      "cell_type": "code",
      "metadata": {
        "id": "NExqg8KSsrXA",
        "colab_type": "code",
        "colab": {
          "base_uri": "https://localhost:8080/",
          "height": 34
        },
        "outputId": "e7d567da-be3b-4000-fc5f-6875c5dcea4a"
      },
      "source": [
        "X = df[cat_feats].values\n",
        "y = df['price_value'].values\n",
        "model = DecisionTreeRegressor(max_depth=5)\n",
        "scores = cross_val_score(model, X, y, cv=3, scoring='neg_mean_absolute_error')\n",
        "np.mean(scores)"
      ],
      "execution_count": 53,
      "outputs": [
        {
          "output_type": "execute_result",
          "data": {
            "text/plain": [
              "-19566.58893736832"
            ]
          },
          "metadata": {
            "tags": []
          },
          "execution_count": 53
        }
      ]
    },
    {
      "cell_type": "code",
      "metadata": {
        "id": "zIuuteNethkE",
        "colab_type": "code",
        "colab": {
          "base_uri": "https://localhost:8080/",
          "height": 391
        },
        "outputId": "ddc2db09-fb30-4796-b416-6144cc560be2"
      },
      "source": [
        "m = DecisionTreeRegressor(max_depth=5)\n",
        "m.fit(X,y)\n",
        "\n",
        "imp = PermutationImportance(m, random_state=0).fit(X,y)\n",
        "eli5.show_weights(imp, feature_names=cat_feats)"
      ],
      "execution_count": 55,
      "outputs": [
        {
          "output_type": "execute_result",
          "data": {
            "text/html": [
              "\n",
              "    <style>\n",
              "    table.eli5-weights tr:hover {\n",
              "        filter: brightness(85%);\n",
              "    }\n",
              "</style>\n",
              "\n",
              "\n",
              "\n",
              "    \n",
              "\n",
              "    \n",
              "\n",
              "    \n",
              "\n",
              "    \n",
              "\n",
              "    \n",
              "\n",
              "    \n",
              "\n",
              "\n",
              "    \n",
              "\n",
              "    \n",
              "\n",
              "    \n",
              "\n",
              "    \n",
              "\n",
              "    \n",
              "\n",
              "    \n",
              "\n",
              "\n",
              "    \n",
              "\n",
              "    \n",
              "\n",
              "    \n",
              "\n",
              "    \n",
              "\n",
              "    \n",
              "        <table class=\"eli5-weights eli5-feature-importances\" style=\"border-collapse: collapse; border: none; margin-top: 0em; table-layout: auto;\">\n",
              "    <thead>\n",
              "    <tr style=\"border: none;\">\n",
              "        <th style=\"padding: 0 1em 0 0.5em; text-align: right; border: none;\">Weight</th>\n",
              "        <th style=\"padding: 0 0.5em 0 0.5em; text-align: left; border: none;\">Feature</th>\n",
              "    </tr>\n",
              "    </thead>\n",
              "    <tbody>\n",
              "    \n",
              "        <tr style=\"background-color: hsl(120, 100.00%, 80.00%); border: none;\">\n",
              "            <td style=\"padding: 0 1em 0 0.5em; text-align: right; border: none;\">\n",
              "                0.2533\n",
              "                \n",
              "                    &plusmn; 0.0040\n",
              "                \n",
              "            </td>\n",
              "            <td style=\"padding: 0 0.5em 0 0.5em; text-align: left; border: none;\">\n",
              "                param_napęd__cat\n",
              "            </td>\n",
              "        </tr>\n",
              "    \n",
              "        <tr style=\"background-color: hsl(120, 100.00%, 83.00%); border: none;\">\n",
              "            <td style=\"padding: 0 1em 0 0.5em; text-align: right; border: none;\">\n",
              "                0.2008\n",
              "                \n",
              "                    &plusmn; 0.0047\n",
              "                \n",
              "            </td>\n",
              "            <td style=\"padding: 0 0.5em 0 0.5em; text-align: left; border: none;\">\n",
              "                param_faktura-vat__cat\n",
              "            </td>\n",
              "        </tr>\n",
              "    \n",
              "        <tr style=\"background-color: hsl(120, 100.00%, 83.39%); border: none;\">\n",
              "            <td style=\"padding: 0 1em 0 0.5em; text-align: right; border: none;\">\n",
              "                0.1943\n",
              "                \n",
              "                    &plusmn; 0.0088\n",
              "                \n",
              "            </td>\n",
              "            <td style=\"padding: 0 0.5em 0 0.5em; text-align: left; border: none;\">\n",
              "                param_stan__cat\n",
              "            </td>\n",
              "        </tr>\n",
              "    \n",
              "        <tr style=\"background-color: hsl(120, 100.00%, 86.64%); border: none;\">\n",
              "            <td style=\"padding: 0 1em 0 0.5em; text-align: right; border: none;\">\n",
              "                0.1423\n",
              "                \n",
              "                    &plusmn; 0.0086\n",
              "                \n",
              "            </td>\n",
              "            <td style=\"padding: 0 0.5em 0 0.5em; text-align: left; border: none;\">\n",
              "                param_rok-produkcji__cat\n",
              "            </td>\n",
              "        </tr>\n",
              "    \n",
              "        <tr style=\"background-color: hsl(120, 100.00%, 92.46%); border: none;\">\n",
              "            <td style=\"padding: 0 1em 0 0.5em; text-align: right; border: none;\">\n",
              "                0.0629\n",
              "                \n",
              "                    &plusmn; 0.0047\n",
              "                \n",
              "            </td>\n",
              "            <td style=\"padding: 0 0.5em 0 0.5em; text-align: left; border: none;\">\n",
              "                param_moc__cat\n",
              "            </td>\n",
              "        </tr>\n",
              "    \n",
              "        <tr style=\"background-color: hsl(120, 100.00%, 94.27%); border: none;\">\n",
              "            <td style=\"padding: 0 1em 0 0.5em; text-align: right; border: none;\">\n",
              "                0.0424\n",
              "                \n",
              "                    &plusmn; 0.0014\n",
              "                \n",
              "            </td>\n",
              "            <td style=\"padding: 0 0.5em 0 0.5em; text-align: left; border: none;\">\n",
              "                feature_kamera-cofania__cat\n",
              "            </td>\n",
              "        </tr>\n",
              "    \n",
              "        <tr style=\"background-color: hsl(120, 100.00%, 94.39%); border: none;\">\n",
              "            <td style=\"padding: 0 1em 0 0.5em; text-align: right; border: none;\">\n",
              "                0.0412\n",
              "                \n",
              "                    &plusmn; 0.0008\n",
              "                \n",
              "            </td>\n",
              "            <td style=\"padding: 0 0.5em 0 0.5em; text-align: left; border: none;\">\n",
              "                param_skrzynia-biegów__cat\n",
              "            </td>\n",
              "        </tr>\n",
              "    \n",
              "        <tr style=\"background-color: hsl(120, 100.00%, 95.66%); border: none;\">\n",
              "            <td style=\"padding: 0 1em 0 0.5em; text-align: right; border: none;\">\n",
              "                0.0286\n",
              "                \n",
              "                    &plusmn; 0.0037\n",
              "                \n",
              "            </td>\n",
              "            <td style=\"padding: 0 0.5em 0 0.5em; text-align: left; border: none;\">\n",
              "                param_marka-pojazdu__cat\n",
              "            </td>\n",
              "        </tr>\n",
              "    \n",
              "        <tr style=\"background-color: hsl(120, 100.00%, 96.72%); border: none;\">\n",
              "            <td style=\"padding: 0 1em 0 0.5em; text-align: right; border: none;\">\n",
              "                0.0191\n",
              "                \n",
              "                    &plusmn; 0.0022\n",
              "                \n",
              "            </td>\n",
              "            <td style=\"padding: 0 0.5em 0 0.5em; text-align: left; border: none;\">\n",
              "                param_pojemność-skokowa__cat\n",
              "            </td>\n",
              "        </tr>\n",
              "    \n",
              "        <tr style=\"background-color: hsl(120, 100.00%, 97.07%); border: none;\">\n",
              "            <td style=\"padding: 0 1em 0 0.5em; text-align: right; border: none;\">\n",
              "                0.0163\n",
              "                \n",
              "                    &plusmn; 0.0005\n",
              "                \n",
              "            </td>\n",
              "            <td style=\"padding: 0 0.5em 0 0.5em; text-align: left; border: none;\">\n",
              "                feature_bluetooth__cat\n",
              "            </td>\n",
              "        </tr>\n",
              "    \n",
              "        <tr style=\"background-color: hsl(120, 100.00%, 97.68%); border: none;\">\n",
              "            <td style=\"padding: 0 1em 0 0.5em; text-align: right; border: none;\">\n",
              "                0.0117\n",
              "                \n",
              "                    &plusmn; 0.0007\n",
              "                \n",
              "            </td>\n",
              "            <td style=\"padding: 0 0.5em 0 0.5em; text-align: left; border: none;\">\n",
              "                feature_łopatki-zmiany-biegów__cat\n",
              "            </td>\n",
              "        </tr>\n",
              "    \n",
              "        <tr style=\"background-color: hsl(120, 100.00%, 97.76%); border: none;\">\n",
              "            <td style=\"padding: 0 1em 0 0.5em; text-align: right; border: none;\">\n",
              "                0.0111\n",
              "                \n",
              "                    &plusmn; 0.0004\n",
              "                \n",
              "            </td>\n",
              "            <td style=\"padding: 0 0.5em 0 0.5em; text-align: left; border: none;\">\n",
              "                feature_światła-led__cat\n",
              "            </td>\n",
              "        </tr>\n",
              "    \n",
              "        <tr style=\"background-color: hsl(120, 100.00%, 99.18%); border: none;\">\n",
              "            <td style=\"padding: 0 1em 0 0.5em; text-align: right; border: none;\">\n",
              "                0.0026\n",
              "                \n",
              "                    &plusmn; 0.0002\n",
              "                \n",
              "            </td>\n",
              "            <td style=\"padding: 0 0.5em 0 0.5em; text-align: left; border: none;\">\n",
              "                feature_klimatyzacja-manualna__cat\n",
              "            </td>\n",
              "        </tr>\n",
              "    \n",
              "        <tr style=\"background-color: hsl(120, 100.00%, 99.27%); border: none;\">\n",
              "            <td style=\"padding: 0 1em 0 0.5em; text-align: right; border: none;\">\n",
              "                0.0022\n",
              "                \n",
              "                    &plusmn; 0.0002\n",
              "                \n",
              "            </td>\n",
              "            <td style=\"padding: 0 0.5em 0 0.5em; text-align: left; border: none;\">\n",
              "                param_kod-silnika__cat\n",
              "            </td>\n",
              "        </tr>\n",
              "    \n",
              "        <tr style=\"background-color: hsl(0, 100.00%, 100.00%); border: none;\">\n",
              "            <td style=\"padding: 0 1em 0 0.5em; text-align: right; border: none;\">\n",
              "                0\n",
              "                \n",
              "                    &plusmn; 0.0000\n",
              "                \n",
              "            </td>\n",
              "            <td style=\"padding: 0 0.5em 0 0.5em; text-align: left; border: none;\">\n",
              "                feature_gniazdo-aux__cat\n",
              "            </td>\n",
              "        </tr>\n",
              "    \n",
              "        <tr style=\"background-color: hsl(0, 100.00%, 100.00%); border: none;\">\n",
              "            <td style=\"padding: 0 1em 0 0.5em; text-align: right; border: none;\">\n",
              "                0\n",
              "                \n",
              "                    &plusmn; 0.0000\n",
              "                \n",
              "            </td>\n",
              "            <td style=\"padding: 0 0.5em 0 0.5em; text-align: left; border: none;\">\n",
              "                feature_klimatyzacja-automatyczna__cat\n",
              "            </td>\n",
              "        </tr>\n",
              "    \n",
              "        <tr style=\"background-color: hsl(0, 100.00%, 100.00%); border: none;\">\n",
              "            <td style=\"padding: 0 1em 0 0.5em; text-align: right; border: none;\">\n",
              "                0\n",
              "                \n",
              "                    &plusmn; 0.0000\n",
              "                \n",
              "            </td>\n",
              "            <td style=\"padding: 0 0.5em 0 0.5em; text-align: left; border: none;\">\n",
              "                feature_radio-fabryczne__cat\n",
              "            </td>\n",
              "        </tr>\n",
              "    \n",
              "        <tr style=\"background-color: hsl(0, 100.00%, 100.00%); border: none;\">\n",
              "            <td style=\"padding: 0 1em 0 0.5em; text-align: right; border: none;\">\n",
              "                0\n",
              "                \n",
              "                    &plusmn; 0.0000\n",
              "                \n",
              "            </td>\n",
              "            <td style=\"padding: 0 0.5em 0 0.5em; text-align: left; border: none;\">\n",
              "                feature_czujniki-parkowania-tylne__cat\n",
              "            </td>\n",
              "        </tr>\n",
              "    \n",
              "        <tr style=\"background-color: hsl(0, 100.00%, 100.00%); border: none;\">\n",
              "            <td style=\"padding: 0 1em 0 0.5em; text-align: right; border: none;\">\n",
              "                0\n",
              "                \n",
              "                    &plusmn; 0.0000\n",
              "                \n",
              "            </td>\n",
              "            <td style=\"padding: 0 0.5em 0 0.5em; text-align: left; border: none;\">\n",
              "                feature_poduszki-boczne-tylne__cat\n",
              "            </td>\n",
              "        </tr>\n",
              "    \n",
              "        <tr style=\"background-color: hsl(0, 100.00%, 100.00%); border: none;\">\n",
              "            <td style=\"padding: 0 1em 0 0.5em; text-align: right; border: none;\">\n",
              "                0\n",
              "                \n",
              "                    &plusmn; 0.0000\n",
              "                \n",
              "            </td>\n",
              "            <td style=\"padding: 0 0.5em 0 0.5em; text-align: left; border: none;\">\n",
              "                feature_odtwarzacz-dvd__cat\n",
              "            </td>\n",
              "        </tr>\n",
              "    \n",
              "    \n",
              "        \n",
              "            <tr style=\"background-color: hsl(0, 100.00%, 100.00%); border: none;\">\n",
              "                <td colspan=\"2\" style=\"padding: 0 0.5em 0 0.5em; text-align: center; border: none; white-space: nowrap;\">\n",
              "                    <i>&hellip; 131 more &hellip;</i>\n",
              "                </td>\n",
              "            </tr>\n",
              "        \n",
              "    \n",
              "    </tbody>\n",
              "</table>\n",
              "    \n",
              "\n",
              "    \n",
              "\n",
              "\n",
              "    \n",
              "\n",
              "    \n",
              "\n",
              "    \n",
              "\n",
              "    \n",
              "\n",
              "    \n",
              "\n",
              "    \n",
              "\n",
              "\n",
              "\n"
            ],
            "text/plain": [
              "<IPython.core.display.HTML object>"
            ]
          },
          "metadata": {
            "tags": []
          },
          "execution_count": 55
        }
      ]
    },
    {
      "cell_type": "code",
      "metadata": {
        "id": "BYfqspE8vb28",
        "colab_type": "code",
        "colab": {
          "base_uri": "https://localhost:8080/",
          "height": 34
        },
        "outputId": "b54a3752-eb4a-4b9a-c795-9a4321e510c8"
      },
      "source": [
        "ls"
      ],
      "execution_count": 56,
      "outputs": [
        {
          "output_type": "stream",
          "text": [
            "car.h5\n"
          ],
          "name": "stdout"
        }
      ]
    },
    {
      "cell_type": "code",
      "metadata": {
        "id": "homynqwxISVt",
        "colab_type": "code",
        "colab": {}
      },
      "source": [
        ""
      ],
      "execution_count": 0,
      "outputs": []
    }
  ]
}